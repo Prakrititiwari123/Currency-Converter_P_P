{
 "cells": [
  {
   "cell_type": "code",
   "execution_count": 1,
   "id": "e01481be",
   "metadata": {},
   "outputs": [
    {
     "name": "stdout",
     "output_type": "stream",
     "text": [
      "This program converts US dollars to Pounds Sterling\n",
      "\n",
      "Enter amount in dollars: 2\n",
      "That is 1.64 pounds. \n"
     ]
    }
   ],
   "source": [
    "def main():\n",
    "    print(\"This program converts US dollars to Pounds Sterling\")\n",
    "    print()\n",
    "\n",
    "    dollars = eval(input(\"Enter amount in dollars: \"))\n",
    "\n",
    "    pounds = convert_to_pounds(dollars)\n",
    "\n",
    "    print(\"That is\" , pounds, \"pounds. \")\n",
    "\n",
    "convert_to_pounds = lambda dollars: dollars * 0.82\n",
    "\n",
    "main()"
   ]
  },
  {
   "cell_type": "code",
   "execution_count": null,
   "id": "221ad328",
   "metadata": {},
   "outputs": [],
   "source": []
  }
 ],
 "metadata": {
  "kernelspec": {
   "display_name": "Python 3 (ipykernel)",
   "language": "python",
   "name": "python3"
  },
  "language_info": {
   "codemirror_mode": {
    "name": "ipython",
    "version": 3
   },
   "file_extension": ".py",
   "mimetype": "text/x-python",
   "name": "python",
   "nbconvert_exporter": "python",
   "pygments_lexer": "ipython3",
   "version": "3.9.13"
  }
 },
 "nbformat": 4,
 "nbformat_minor": 5
}
